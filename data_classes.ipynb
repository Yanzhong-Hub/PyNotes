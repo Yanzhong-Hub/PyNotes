{
 "cells": [
  {
   "attachments": {},
   "cell_type": "markdown",
   "metadata": {},
   "source": [
    "# Dataclassess\n",
    "\n",
    "------------------\n",
    "\n",
    "Cretated by: Yanzhong Huang  \n",
    "Email: yanzhong.huang@outlook.com"
   ]
  },
  {
   "attachments": {},
   "cell_type": "markdown",
   "metadata": {},
   "source": [
    "import random\n",
    "import string"
   ]
  },
  {
   "cell_type": "code",
   "execution_count": 4,
   "metadata": {},
   "outputs": [
    {
     "name": "stdout",
     "output_type": "stream",
     "text": [
      "john, 123 Main St\n",
      "PersonDataClass(name='john', address='123 Main St', email_addresses=[], person_id='UIFQENVYVCYM', search_string='john, 123 Main St')\n",
      "john, 123 Main St\n"
     ]
    }
   ],
   "source": [
    "import random\n",
    "import string\n",
    "from dataclasses import dataclass, field\n",
    "\n",
    "\n",
    "def generate_id() -> str:\n",
    "    return ''.join(random.choices(string.ascii_uppercase, k=12))\n",
    "\n",
    "\n",
    "class Person:\n",
    "\n",
    "    def __init__(self, name: str, address: str) -> None:\n",
    "        self.name = name\n",
    "        self.address = address\n",
    "    \n",
    "    def __str__(self) -> str:\n",
    "        return f'{self.name}, {self.address}'\n",
    "\n",
    "\n",
    "@dataclass(frozen=True)  # cannot modify after initialized\n",
    "class PersonDataClass:\n",
    "    name: str\n",
    "    address: str\n",
    "    email_addresses: list[str] = field(default_factory=list)\n",
    "    person_id: str = field(init=False, default_factory=generate_id)  # connot modify this\n",
    "    _search_string: str = field(init=False, repr=False)  # does not displat when print Person\n",
    "\n",
    "    def __post_init__(self) -> None:\n",
    "        self.search_string = f\"{self.name}, {self.address}\"\n",
    "\n",
    "def main() -> None:\n",
    "    person = Person(name='john', address='123 Main St')\n",
    "    print(person)\n",
    "\n",
    "    person_2 = PersonDataClass(name='john', address='123 Main St')\n",
    "    print(person_2)\n",
    "    print(person_2._search_string)\n",
    "\n",
    "main()"
   ]
  },
  {
   "cell_type": "code",
   "execution_count": null,
   "metadata": {},
   "outputs": [],
   "source": []
  },
  {
   "cell_type": "code",
   "execution_count": null,
   "metadata": {},
   "outputs": [],
   "source": []
  },
  {
   "cell_type": "code",
   "execution_count": null,
   "metadata": {},
   "outputs": [],
   "source": []
  },
  {
   "attachments": {},
   "cell_type": "markdown",
   "metadata": {},
   "source": [
    "de"
   ]
  }
 ],
 "metadata": {
  "kernelspec": {
   "display_name": "Python 3",
   "language": "python",
   "name": "python3"
  },
  "language_info": {
   "codemirror_mode": {
    "name": "ipython",
    "version": 3
   },
   "file_extension": ".py",
   "mimetype": "text/x-python",
   "name": "python",
   "nbconvert_exporter": "python",
   "pygments_lexer": "ipython3",
   "version": "3.9.6"
  },
  "orig_nbformat": 4,
  "vscode": {
   "interpreter": {
    "hash": "31f2aee4e71d21fbe5cf8b01ff0e069b9275f58929596ceb00d14d90e3e16cd6"
   }
  }
 },
 "nbformat": 4,
 "nbformat_minor": 2
}
