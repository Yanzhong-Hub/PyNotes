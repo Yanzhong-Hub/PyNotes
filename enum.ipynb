{
 "cells": [
  {
   "attachments": {},
   "cell_type": "markdown",
   "metadata": {},
   "source": [
    "# Enum 简介\n",
    "\n",
    "---\n",
    "\n",
    "Created by: Yanzhong Huang  \n",
    "Email: yanzhong.huang@outlook.com"
   ]
  },
  {
   "attachments": {},
   "cell_type": "markdown",
   "metadata": {},
   "source": [
    "Enum is a class in python for creating enumerations, which are a set of symbolic names (members) bound to unique, constant values. The members of an enumeration can be compared by these symbolic anmes, and the enumeration itself can be iterated over. An enum has the following characteristics.\n",
    "\n",
    "The enums are evaluatable string representation of an object also called repr().\n",
    "The name of the enum is displayed using ‘name’ keyword.\n",
    "Using type() we can check the enum types."
   ]
  },
  {
   "attachments": {},
   "cell_type": "markdown",
   "metadata": {},
   "source": [
    "Enum：枚举  \n",
    "\n",
    "在数学和计算机科学理论中，一个集的枚举是列出某些有穷序列集的所有成员的程序，或者是一种特定类型对象的计数。这两种类型经常（但不总是）重叠。\n",
    "枚举是一个被命名的整型常数的集合，枚举在日常生活中很常见，例如“星期”这个词就是一个枚举，星期一、星期二、 星期三、星期四、星期五、星期六、星期日就是这个枚举里面的成员。\n",
    "通俗来说，枚举就是对一个对象的所有可能取到的值的集合\n",
    "枚举的定义方式与结构体和联合体相似，其形式为：\n",
    "\n",
    "```\n",
    "enum 枚举名{\n",
    "    标识符①[=整型常数],\n",
    "    标识符②[=整型常数],\n",
    "    ...\n",
    "    标识符N[=整型常数],\n",
    "}枚举变量;\n",
    "```"
   ]
  },
  {
   "attachments": {},
   "cell_type": "markdown",
   "metadata": {},
   "source": [
    "## 使用场景\n",
    "\n",
    "一般针对对象有固定的属性，而我们希望这些属性为固定的选项。如下："
   ]
  },
  {
   "cell_type": "code",
   "execution_count": 3,
   "metadata": {},
   "outputs": [
    {
     "name": "stdout",
     "output_type": "stream",
     "text": [
      "I am not a manager!!!!!!\n"
     ]
    }
   ],
   "source": [
    "\"\"\"\n",
    "我们可以创建如下Employee object，\n",
    "attrobute 包含：员工职位(str)，工资等级(int)\n",
    "\n",
    "假设员工职位有'normal', 'manager', 'ceo'三个等级，如果采用str的形式，当输入错误时程序会报错，比如输入为'manager_'\n",
    "\"\"\"\n",
    "class Employee:\n",
    "    \"\"\"员工object\"\"\"\n",
    "\n",
    "    def __init__(self, job_title: str, salary_tier: int) -> None:\n",
    "        self.job_title = job_title  # 员工职位\n",
    "        self.salary_tier = salary_tier  # 员工工资等级\n",
    "\n",
    "    def manager_reference(self):\n",
    "        if self.job_title == 'manager':\n",
    "            print('I am a manager!')\n",
    "        else:\n",
    "            print('I am not a manager!!!!!!')\n",
    "\n",
    "# ，job title输入错误,导致method输出结果错误\n",
    "yanzhong = Employee(job_title='manager_', salary_tier=2)\n",
    "yanzhong.manager_reference()"
   ]
  },
  {
   "attachments": {},
   "cell_type": "markdown",
   "metadata": {},
   "source": [
    "## Enum实例\n"
   ]
  },
  {
   "cell_type": "code",
   "execution_count": 5,
   "metadata": {},
   "outputs": [
    {
     "name": "stdout",
     "output_type": "stream",
     "text": [
      "I am a manager!\n"
     ]
    }
   ],
   "source": [
    "from enum import Enum, auto\n",
    "\n",
    "class EmployeeJobTitile(Enum):\n",
    "    \"\"\"创建emploee job title enum class\"\"\"\n",
    "\n",
    "    normal = auto()\n",
    "    manager = auto()\n",
    "    ceo = auto()\n",
    "\n",
    "\n",
    "class Employee:\n",
    "    \"\"\"员工object, 注意job title的改变\"\"\"\n",
    "\n",
    "    def __init__(self, job_title: EmployeeJobTitile, salary_tier: int) -> None:\n",
    "        self.job_title = job_title  # 员工职位\n",
    "        self.salary_tier = salary_tier  # 员工工资等级\n",
    "\n",
    "    def manager_reference(self):\n",
    "        if self.job_title == EmployeeJobTitile.manager:\n",
    "            print('I am a manager!')\n",
    "        else:\n",
    "            print('I am not a manager!!!!!!')\n",
    "\n",
    "\n",
    "# \n",
    "yanzhong = Employee(job_title=EmployeeJobTitile.manager, salary_tier=2)\n",
    "yanzhong.manager_reference()\n"
   ]
  },
  {
   "cell_type": "markdown",
   "metadata": {},
   "source": []
  },
  {
   "cell_type": "markdown",
   "metadata": {},
   "source": []
  }
 ],
 "metadata": {
  "kernelspec": {
   "display_name": "Python 3",
   "language": "python",
   "name": "python3"
  },
  "language_info": {
   "codemirror_mode": {
    "name": "ipython",
    "version": 3
   },
   "file_extension": ".py",
   "mimetype": "text/x-python",
   "name": "python",
   "nbconvert_exporter": "python",
   "pygments_lexer": "ipython3",
   "version": "3.9.6"
  },
  "orig_nbformat": 4,
  "vscode": {
   "interpreter": {
    "hash": "31f2aee4e71d21fbe5cf8b01ff0e069b9275f58929596ceb00d14d90e3e16cd6"
   }
  }
 },
 "nbformat": 4,
 "nbformat_minor": 2
}
