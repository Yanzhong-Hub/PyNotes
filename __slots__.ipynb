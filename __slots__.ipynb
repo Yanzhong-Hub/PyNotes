{
 "cells": [
  {
   "attachments": {},
   "cell_type": "markdown",
   "metadata": {},
   "source": [
    "# 使用slot增加python class性能\n",
    "\n",
    "---\n",
    "\n",
    "created by: Yanzhong Huang  \n",
    "Email: yanzhong.huang@outlook.com"
   ]
  },
  {
   "attachments": {},
   "cell_type": "markdown",
   "metadata": {},
   "source": [
    "Python中class的attributes是使用dictionary的形式进行记录的，这样的方式好处是比较灵活的添加和修改，例如："
   ]
  },
  {
   "cell_type": "code",
   "execution_count": 1,
   "metadata": {},
   "outputs": [
    {
     "name": "stdout",
     "output_type": "stream",
     "text": [
      "{'attribute_1': 'Hello', 'attribute_2': 60}\n"
     ]
    }
   ],
   "source": [
    "class Sample:\n",
    "\n",
    "    def __init__(self, attribute_1: str, attribute_2: int) -> None:\n",
    "        self.attribute_1 = attribute_1\n",
    "        self.attribute_2 = attribute_2\n",
    "\n",
    "sample_1 = Sample(attribute_1='Hello', attribute_2=60)\n",
    "\n",
    "\n",
    "print(sample_1.__dict__)\n",
    "# output: {'attribute_1': 'Hello', 'attribute_2': 60}\n"
   ]
  },
  {
   "attachments": {},
   "cell_type": "markdown",
   "metadata": {},
   "source": [
    "这样做的坏处是性能受到损失，以下是创建1000000个sample对象的时间"
   ]
  },
  {
   "cell_type": "code",
   "execution_count": 2,
   "metadata": {},
   "outputs": [
    {
     "name": "stdout",
     "output_type": "stream",
     "text": [
      "运行时间: 0.66\n"
     ]
    }
   ],
   "source": [
    "import time\n",
    "\n",
    "start = time.time()\n",
    "\n",
    "sample_list = []\n",
    "\n",
    "for n in range(1_000_000):\n",
    "    sample = Sample(attribute_1='Hello', attribute_2=n)\n",
    "    sample_list.append(sample)\n",
    "\n",
    "end= time.time()\n",
    "\n",
    "print(f'运行时间: {round(end - start, 2)}')"
   ]
  },
  {
   "attachments": {},
   "cell_type": "markdown",
   "metadata": {},
   "source": [
    "Sample2 使用__slot__来存储attribute"
   ]
  },
  {
   "cell_type": "code",
   "execution_count": 3,
   "metadata": {},
   "outputs": [
    {
     "name": "stdout",
     "output_type": "stream",
     "text": [
      "运行时间: 0.52\n"
     ]
    }
   ],
   "source": [
    "class Sample2:\n",
    "\n",
    "    __slots__ = 'attribute_1', 'attribute_2'\n",
    "\n",
    "    def __init__(self, attribute_1: str, attribute_2: int) -> None:\n",
    "        self.attribute_1 = attribute_1\n",
    "        self.attribute_2 = attribute_2\n",
    "\n",
    "start = time.time()\n",
    "\n",
    "sample_list = []\n",
    "\n",
    "for n in range(1_000_000):\n",
    "    sample = Sample2(attribute_1='Hello', attribute_2=n)\n",
    "    sample_list.append(sample)\n",
    "\n",
    "end= time.time()\n",
    "print(f'运行时间: {round(end - start, 2)}')"
   ]
  },
  {
   "attachments": {},
   "cell_type": "markdown",
   "metadata": {},
   "source": [
    "可以看到运行时间从0.65s提升到0.52s，时间减少了20%"
   ]
  },
  {
   "attachments": {},
   "cell_type": "markdown",
   "metadata": {},
   "source": [
    "## 缺点\n",
    "\n",
    "__slots__的缺点是灵活性，不能自由添加attribute。同时继承两个含有slots的类时也会出现错误"
   ]
  },
  {
   "cell_type": "markdown",
   "metadata": {},
   "source": []
  }
 ],
 "metadata": {
  "kernelspec": {
   "display_name": "Python 3",
   "language": "python",
   "name": "python3"
  },
  "language_info": {
   "codemirror_mode": {
    "name": "ipython",
    "version": 3
   },
   "file_extension": ".py",
   "mimetype": "text/x-python",
   "name": "python",
   "nbconvert_exporter": "python",
   "pygments_lexer": "ipython3",
   "version": "3.9.6"
  },
  "orig_nbformat": 4,
  "vscode": {
   "interpreter": {
    "hash": "31f2aee4e71d21fbe5cf8b01ff0e069b9275f58929596ceb00d14d90e3e16cd6"
   }
  }
 },
 "nbformat": 4,
 "nbformat_minor": 2
}
