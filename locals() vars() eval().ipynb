{
 "cells": [
  {
   "cell_type": "markdown",
   "id": "fe6e8735",
   "metadata": {},
   "source": [
    "# 内置函数：locals(), vars(), evals()简介"
   ]
  },
  {
   "cell_type": "markdown",
   "id": "730dfba2",
   "metadata": {},
   "source": [
    "# 1. locals()\n",
    "\n",
    "locals是python的内置函数，他可以字典的方式去访问局部和全局变量。  \n",
    "\n",
    "python里面用名字空间记录着变量，就像javascript的window一样，他记录着各种全局变量。\n",
    "\n",
    "每个模块，每个函数都有自己的名字空间，记录着变量，常量，类的命名和值。\n",
    "\n",
    "就像JS一样，当python在使用变量时，会按照下面的步骤去搜索：\n",
    "\n",
    "1. 函数或类的局部变量\n",
    "\n",
    "2. 全局变量\n",
    "\n",
    "3. 内置变量\n",
    "\n",
    "以上三个步骤，其中一步骤找到对应的变量，就不会再往下找。如果在这三个步骤都找不到，就会抛出异常.\n",
    "\n",
    "## locals与globals的区别\n",
    "\n",
    "locals()是只读的。globals()不是。这里说的只读，是值对于原有变量的只读。其实还可以对locals()赋值的。\n",
    "\n",
    "globals返回的是当前模块的全局变量 locals返回的是局部变量。注意，locals返回的是当前所在最小命名空间的局部变量的一个拷贝。"
   ]
  },
  {
   "cell_type": "code",
   "execution_count": 1,
   "id": "5a487e48",
   "metadata": {},
   "outputs": [
    {
     "name": "stdout",
     "output_type": "stream",
     "text": [
      "[1, 2, 3] [1, 2, 3] [1, 2, 3]\n"
     ]
    }
   ],
   "source": [
    "# locals test\n",
    "list1 = ['a', 'b', 'c']\n",
    "locals()\n",
    "# 将字符串转换为变量名称\n",
    "for i in list1:\n",
    "    locals()[i] = [1, 2, 3]\n",
    "\n",
    "print(a, b, c)"
   ]
  },
  {
   "cell_type": "markdown",
   "id": "3642c4d6",
   "metadata": {},
   "source": [
    "# 2. vars()\n",
    "\n",
    "本函数是实现返回对象object的属性和属性值的字典对象。如果默认不输入参数，就打印当前调用位置的属性和属性值，相当于locals()的功能。如果有参数输入，就只打印这个参数相应的属性和属性值。\n"
   ]
  },
  {
   "cell_type": "code",
   "execution_count": 2,
   "id": "d43704a4",
   "metadata": {},
   "outputs": [
    {
     "data": {
      "text/plain": [
       "{'__name__': '__main__',\n",
       " '__doc__': 'Automatically created module for IPython interactive environment',\n",
       " '__package__': None,\n",
       " '__loader__': None,\n",
       " '__spec__': None,\n",
       " '__builtin__': <module 'builtins' (built-in)>,\n",
       " '__builtins__': <module 'builtins' (built-in)>,\n",
       " '_ih': ['',\n",
       "  \"# locals test\\nlist1 = ['a', 'b', 'c']\\nlocals()\\n# 将字符串转换为变量名称\\nfor i in list1:\\n    locals()[i] = [1, 2, 3]\\n\\nprint(a, b, c)\",\n",
       "  'vars()'],\n",
       " '_oh': {},\n",
       " '_dh': ['/Users/yzh/Documents/Python/Python notebook'],\n",
       " 'In': ['',\n",
       "  \"# locals test\\nlist1 = ['a', 'b', 'c']\\nlocals()\\n# 将字符串转换为变量名称\\nfor i in list1:\\n    locals()[i] = [1, 2, 3]\\n\\nprint(a, b, c)\",\n",
       "  'vars()'],\n",
       " 'Out': {},\n",
       " 'get_ipython': <bound method InteractiveShell.get_ipython of <ipykernel.zmqshell.ZMQInteractiveShell object at 0x7fe7ef29ab80>>,\n",
       " 'exit': <IPython.core.autocall.ZMQExitAutocall at 0x7fe7ef2e0280>,\n",
       " 'quit': <IPython.core.autocall.ZMQExitAutocall at 0x7fe7ef2e0280>,\n",
       " '_': '',\n",
       " '__': '',\n",
       " '___': '',\n",
       " '_i': \"# locals test\\nlist1 = ['a', 'b', 'c']\\nlocals()\\n# 将字符串转换为变量名称\\nfor i in list1:\\n    locals()[i] = [1, 2, 3]\\n\\nprint(a, b, c)\",\n",
       " '_ii': '',\n",
       " '_iii': '',\n",
       " '_i1': \"# locals test\\nlist1 = ['a', 'b', 'c']\\nlocals()\\n# 将字符串转换为变量名称\\nfor i in list1:\\n    locals()[i] = [1, 2, 3]\\n\\nprint(a, b, c)\",\n",
       " 'list1': ['a', 'b', 'c'],\n",
       " 'i': 'c',\n",
       " 'a': [1, 2, 3],\n",
       " 'b': [1, 2, 3],\n",
       " 'c': [1, 2, 3],\n",
       " '_i2': 'vars()'}"
      ]
     },
     "execution_count": 2,
     "metadata": {},
     "output_type": "execute_result"
    }
   ],
   "source": [
    "vars()"
   ]
  },
  {
   "cell_type": "markdown",
   "id": "4b0ecc38",
   "metadata": {},
   "source": [
    "# 3. eval()\n",
    "eval()函数十分强大，官方demo解释为：将字符串str当成有效的表达式来求值并返回计算结果。\n",
    "\n",
    "结合math当成一个计算器很好用。\n",
    "\n",
    "其他用法，可以把list,tuple,dict和string相互转化。见下例子："
   ]
  },
  {
   "cell_type": "code",
   "execution_count": 9,
   "id": "c1c2016c",
   "metadata": {},
   "outputs": [
    {
     "name": "stdout",
     "output_type": "stream",
     "text": [
      "[1, 2, 3]\n",
      "<class 'list'>\n"
     ]
    }
   ],
   "source": [
    "test = '[1, 2, 3]'\n",
    "jh = eval(test)\n",
    "print(jh)\n",
    "print(type(jh))\n"
   ]
  },
  {
   "cell_type": "code",
   "execution_count": null,
   "id": "511546d9",
   "metadata": {},
   "outputs": [],
   "source": []
  }
 ],
 "metadata": {
  "kernelspec": {
   "display_name": "Python 3",
   "language": "python",
   "name": "python3"
  },
  "language_info": {
   "codemirror_mode": {
    "name": "ipython",
    "version": 3
   },
   "file_extension": ".py",
   "mimetype": "text/x-python",
   "name": "python",
   "nbconvert_exporter": "python",
   "pygments_lexer": "ipython3",
   "version": "3.9.6"
  },
  "vscode": {
   "interpreter": {
    "hash": "31f2aee4e71d21fbe5cf8b01ff0e069b9275f58929596ceb00d14d90e3e16cd6"
   }
  }
 },
 "nbformat": 4,
 "nbformat_minor": 5
}
